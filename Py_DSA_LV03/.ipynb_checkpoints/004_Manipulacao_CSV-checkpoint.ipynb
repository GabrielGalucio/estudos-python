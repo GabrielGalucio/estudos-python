{
 "cells": [
  {
   "cell_type": "markdown",
   "metadata": {},
   "source": [
    "### Manipulando Arquivos CSV (coma-separated-values)\n",
    "Arquivos separados por virgula"
   ]
  },
  {
   "cell_type": "code",
   "execution_count": 1,
   "metadata": {},
   "outputs": [],
   "source": [
    "# Importando pacote (sem pandas)\n",
    "import csv"
   ]
  },
  {
   "cell_type": "code",
   "execution_count": 5,
   "metadata": {},
   "outputs": [],
   "source": [
    "# Gravando arquivos\n",
    "with open(\"datasets/numeros.csv\",\"w\") as arquivos:\n",
    "    writer = csv.writer(arquivos)\n",
    "    writer.writerow((\"primeiro\",\"segundo\",\"terceiro\"))          # writerow() escreve em uma linha\n",
    "    writer.writerow((55,59,60))                                 # writerow() escreve em uma linha \n",
    "    writer.writerow((62,70,98))                                 # writerow() escreve em uma linha"
   ]
  },
  {
   "cell_type": "code",
   "execution_count": 6,
   "metadata": {},
   "outputs": [
    {
     "name": "stdout",
     "output_type": "stream",
     "text": [
      "Número de colunas: 3\n",
      "['primeiro', 'segundo', 'terceiro']\n",
      "Número de colunas: 3\n",
      "['55', '59', '60']\n",
      "Número de colunas: 3\n",
      "['62', '70', '98']\n"
     ]
    }
   ],
   "source": [
    "# Lendo arquivos\n",
    "with open(\"datasets/numeros.csv\",\"r\") as arquivos:\n",
    "    leitor = csv.reader(arquivos)\n",
    "    for x in leitor:\n",
    "        print(\"Número de colunas:\",len(x))\n",
    "        print(x)"
   ]
  },
  {
   "cell_type": "code",
   "execution_count": 7,
   "metadata": {},
   "outputs": [
    {
     "name": "stdout",
     "output_type": "stream",
     "text": [
      "[['primeiro', 'segundo', 'terceiro'], ['55', '59', '60'], ['62', '70', '98']]\n"
     ]
    }
   ],
   "source": [
    "# Tranformando o arquivo para uma lista\n",
    "with open(\"datasets/numeros.csv\",\"r\") as arquivos:\n",
    "    leitor = csv.reader(arquivos)\n",
    "    dados = list(leitor)\n",
    "    \n",
    "print(dados)"
   ]
  },
  {
   "cell_type": "code",
   "execution_count": 9,
   "metadata": {},
   "outputs": [
    {
     "name": "stdout",
     "output_type": "stream",
     "text": [
      "['55', '59', '60']\n",
      "['62', '70', '98']\n"
     ]
    }
   ],
   "source": [
    "# Imprimindo a prtir da segunda linha\n",
    "for linha in dados[1:]:\n",
    "    print(linha)"
   ]
  },
  {
   "cell_type": "code",
   "execution_count": null,
   "metadata": {},
   "outputs": [],
   "source": []
  }
 ],
 "metadata": {
  "kernelspec": {
   "display_name": "Python 3",
   "language": "python",
   "name": "python3"
  },
  "language_info": {
   "codemirror_mode": {
    "name": "ipython",
    "version": 3
   },
   "file_extension": ".py",
   "mimetype": "text/x-python",
   "name": "python",
   "nbconvert_exporter": "python",
   "pygments_lexer": "ipython3",
   "version": "3.7.4"
  }
 },
 "nbformat": 4,
 "nbformat_minor": 2
}
