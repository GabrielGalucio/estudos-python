{
 "cells": [
  {
   "cell_type": "markdown",
   "metadata": {},
   "source": [
    "### Manipulando arquivos JSON (Java Script Object Notation)\n",
    "\n",
    "JSON: (Java Script Object Notation) é uma maneira de armazenar informações de forma organizada e de fácil <br>\n",
    "acesso. Em poucas palavras, ele nos dá uma coleção legivel de dados que podem ser acessados de formas muito <br>\n",
    "lógica. Pode ser uma fonte de Big Data."
   ]
  },
  {
   "cell_type": "code",
   "execution_count": 2,
   "metadata": {},
   "outputs": [],
   "source": [
    "# Criando um dicionário\n",
    "dicionario = {\"nome\":\"Guido Van Rossum\",\n",
    "              \"linguagem\":\"Python\",\n",
    "              \"similar\":[\"C\",\"Modula-3\",\"LISP\"],\n",
    "              \"users\":1000000}"
   ]
  },
  {
   "cell_type": "code",
   "execution_count": 3,
   "metadata": {},
   "outputs": [
    {
     "name": "stdout",
     "output_type": "stream",
     "text": [
      "nome Guido Van Rossum\n",
      "linguagem Python\n",
      "similar ['C', 'Modula-3', 'LISP']\n",
      "users 1000000\n"
     ]
    }
   ],
   "source": [
    "for key, valor in dicionario.items():\n",
    "    print(key, valor)"
   ]
  },
  {
   "cell_type": "code",
   "execution_count": 5,
   "metadata": {},
   "outputs": [],
   "source": [
    "# Manipulando arquivos json, ainda sem pandas\n",
    "import json"
   ]
  },
  {
   "cell_type": "code",
   "execution_count": 6,
   "metadata": {},
   "outputs": [
    {
     "data": {
      "text/plain": [
       "'{\"nome\": \"Guido Van Rossum\", \"linguagem\": \"Python\", \"similar\": [\"C\", \"Modula-3\", \"LISP\"], \"users\": 1000000}'"
      ]
     },
     "execution_count": 6,
     "metadata": {},
     "output_type": "execute_result"
    }
   ],
   "source": [
    "# Convertento um dicionário para um objeto json\n",
    "json.dumps(dicionario)"
   ]
  },
  {
   "cell_type": "code",
   "execution_count": 8,
   "metadata": {},
   "outputs": [],
   "source": [
    "# Abrindo o arquivo json para escrita\n",
    "with open(\"datasets/dados.json\",\"w\") as arquivo:\n",
    "    arquivo.write(json.dumps(dicionario))"
   ]
  },
  {
   "cell_type": "code",
   "execution_count": 9,
   "metadata": {},
   "outputs": [],
   "source": [
    "# Leitura de arquivos json\n",
    "with open(\"datasets/dados.json\",\"r\") as arquivo:\n",
    "    texto = arquivo.read()\n",
    "    data = json.loads(texto)"
   ]
  },
  {
   "cell_type": "code",
   "execution_count": 10,
   "metadata": {},
   "outputs": [
    {
     "name": "stdout",
     "output_type": "stream",
     "text": [
      "{'nome': 'Guido Van Rossum', 'linguagem': 'Python', 'similar': ['C', 'Modula-3', 'LISP'], 'users': 1000000}\n"
     ]
    }
   ],
   "source": [
    "print(data)"
   ]
  },
  {
   "cell_type": "code",
   "execution_count": 11,
   "metadata": {},
   "outputs": [
    {
     "name": "stdout",
     "output_type": "stream",
     "text": [
      "Python\n"
     ]
    }
   ],
   "source": [
    "# Como o json é um dicionário, podemos acessar noramlmente sua chave\n",
    "print(data[\"linguagem\"])"
   ]
  },
  {
   "cell_type": "code",
   "execution_count": 14,
   "metadata": {},
   "outputs": [],
   "source": [
    "# Utilizando um arquivo json da internet\n",
    "from urllib.request import urlopen\n",
    "\n",
    "response = urlopen(\"http://vimeo.com/api/v2/video/57733101.json\").read().decode(\"utf8\")\n",
    "data =json.loads(response)[0]"
   ]
  },
  {
   "cell_type": "code",
   "execution_count": 15,
   "metadata": {},
   "outputs": [
    {
     "name": "stdout",
     "output_type": "stream",
     "text": [
      "Titulos: The Good Man trailer\n",
      "URL: https://vimeo.com/57733101\n",
      "Duração 143\n",
      "Número de visualizações: 5933\n"
     ]
    }
   ],
   "source": [
    "print(\"Titulos:\", data[\"title\"])\n",
    "print(\"URL:\", data[\"url\"])\n",
    "print(\"Duração\", data[\"duration\"])\n",
    "print(\"Número de visualizações:\", data[\"stats_number_of_plays\"])"
   ]
  },
  {
   "cell_type": "code",
   "execution_count": null,
   "metadata": {},
   "outputs": [],
   "source": []
  }
 ],
 "metadata": {
  "kernelspec": {
   "display_name": "Python 3",
   "language": "python",
   "name": "python3"
  },
  "language_info": {
   "codemirror_mode": {
    "name": "ipython",
    "version": 3
   },
   "file_extension": ".py",
   "mimetype": "text/x-python",
   "name": "python",
   "nbconvert_exporter": "python",
   "pygments_lexer": "ipython3",
   "version": "3.7.4"
  }
 },
 "nbformat": 4,
 "nbformat_minor": 2
}
